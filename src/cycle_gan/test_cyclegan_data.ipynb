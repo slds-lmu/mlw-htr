{
 "cells": [
  {
   "cell_type": "code",
   "execution_count": 1,
   "metadata": {},
   "outputs": [],
   "source": [
    "import os\n",
    "import pandas as pd\n",
    "import numpy as np\n",
    "from PIL import Image,ImageDraw,ImageFont\n",
    "from tqdm.auto import tqdm"
   ]
  },
  {
   "cell_type": "code",
   "execution_count": 18,
   "metadata": {},
   "outputs": [],
   "source": [
    "img : str = '/home/USER/Documents/Uni/WiSe2223/Consulting/mlw-consulting-project/data/interim/lemmata_img/images/959.jpg'"
   ]
  },
  {
   "cell_type": "code",
   "execution_count": 14,
   "metadata": {},
   "outputs": [],
   "source": [
    "0.017714565619826317\n",
    "\n",
    "\n",
    "def generate_image(path: str, lemma: str) -> np.ndarray:\n",
    "    \n",
    "\n",
    "    # sample text and font\n",
    "    font = ImageFont.truetype(\"/home/USER/.local/share/fonts/Affectionately Yours - TTF.ttf\", 256, encoding=\"unic\")\n",
    "\n",
    "    # get the line size\n",
    "    _, _, text_width, text_height = font.getbbox(lemma)\n",
    "\n",
    "    # create a blank canvas with extra space between lines\n",
    "    canvas = Image.new('RGB', (text_width + 40, text_height + 40), \"white\")\n",
    "\n",
    "    # draw the text onto the text canvas, and use blue as the text color\n",
    "    draw = ImageDraw.Draw(canvas)\n",
    "    draw.text((40,0), lemma, 'black', font)\n",
    "\n",
    "    # Open original image\n",
    "    image = Image.open(path)\n",
    "\n",
    "    # Get ratio of original image of generated image\n",
    "    ratio = np.array(np.shape(image)[0:2]) / np.array(np.shape(canvas)[0:2])\n",
    "    x_r, y_r = ratio\n",
    "\n",
    "    # Get ratio\n",
    "    mask = np.array([np.all(np.array((x_r * np.array(np.shape(canvas)[0:2])), dtype=int) <= np.array(np.shape(image)[0:2], dtype=int)), np.all(np.array((y_r * np.array(np.shape(canvas)[0:2])), dtype=int) <= np.array(np.shape(image)[0:2], dtype=int))])\n",
    "    r = ratio[mask]\n",
    "    new_canvas = canvas.resize(np.flip(np.array((r * np.array(np.shape(canvas)[0:2])), dtype=int)), Image.Resampling.LANCZOS)\n",
    "    h, w = np.array(np.divide(np.array(np.shape(image)[0:2]) -  np.array(np.shape(new_canvas)[0:2]), 2), dtype=int)\n",
    "\n",
    "    # Fill boundaries to match size\n",
    "    white_canvas = np.uint8(np.ones(np.shape(image), dtype=int) * 255)\n",
    "    white_canvas[h:(np.shape(new_canvas)[0] + h), w:(w + np.shape(new_canvas)[1])] = new_canvas\n",
    "    \n",
    "    # Compute difference between sizes and sum up\n",
    "    diff: float = np.sum(np.array(np.shape(image)) - np.array(np.shape(new_canvas)))\n",
    "    return white_canvas, image, diff"
   ]
  },
  {
   "cell_type": "code",
   "execution_count": 4,
   "metadata": {},
   "outputs": [],
   "source": [
    "a, d = generate_image('/home/USER/Documents/Uni/WiSe2223/Consulting/mlw-consulting-project/data/interim/lemmata_img/images/959.jpg', \"kalendae\")"
   ]
  },
  {
   "cell_type": "code",
   "execution_count": 5,
   "metadata": {},
   "outputs": [
    {
     "data": {
      "text/plain": [
       "11"
      ]
     },
     "execution_count": 5,
     "metadata": {},
     "output_type": "execute_result"
    }
   ],
   "source": [
    "d"
   ]
  },
  {
   "cell_type": "code",
   "execution_count": 21,
   "metadata": {},
   "outputs": [
    {
     "data": {
      "text/plain": [
       "(126, 408, 3)"
      ]
     },
     "execution_count": 21,
     "metadata": {},
     "output_type": "execute_result"
    }
   ],
   "source": [
    "np.shape(a)"
   ]
  },
  {
   "cell_type": "code",
   "execution_count": 6,
   "metadata": {},
   "outputs": [
    {
     "data": {
      "image/png": "[encoded data removed]",
      "text/plain": [
       "<PIL.Image.Image image mode=RGB size=408x126>"
      ]
     },
     "execution_count": 6,
     "metadata": {},
     "output_type": "execute_result"
    }
   ],
   "source": [
    "Image.fromarray(a)"
   ]
  },
  {
   "cell_type": "code",
   "execution_count": 19,
   "metadata": {},
   "outputs": [],
   "source": [
    "path_data_json = \"/home/USER/Documents/Uni/WiSe2223/Consulting/mlw-consulting-project/data.json\"\n",
    "path_images = \"/home/USER/Documents/Uni/WiSe2223/Consulting/mlw-consulting-project/data/interim/lemmata_img/images\""
   ]
  },
  {
   "cell_type": "code",
   "execution_count": 8,
   "metadata": {},
   "outputs": [],
   "source": [
    "df = pd.read_json(path_data_json)"
   ]
  },
  {
   "cell_type": "code",
   "execution_count": 12,
   "metadata": {},
   "outputs": [
    {
     "data": {
      "application/vnd.jupyter.widget-view+json": {
       "model_id": "e33c2a3cccbd451d89b72387485b7e68",
       "version_major": 2,
       "version_minor": 0
      },
      "text/plain": [
       "  0%|          | 0/114653 [00:00<?, ?it/s]"
      ]
     },
     "metadata": {},
     "output_type": "display_data"
    }
   ],
   "source": [
    "progress_bar = tqdm(range(len(df)))\n",
    "# imgs: list = []\n",
    "deltas: list = []\n",
    "for row in df.iterrows():\n",
    "    id = row[1][0]\n",
    "    lemma = row[1][1]\n",
    "    path = os.path.join(path_images, (str(id) + \".jpg\"))\n",
    "    try:\n",
    "        _, delta = generate_image(path, lemma)\n",
    "        # imgs.append(img)\n",
    "        deltas.append(delta)\n",
    "        progress_bar.update(1)\n",
    "    except Exception:\n",
    "        deltas.append(None)\n",
    "        progress_bar.update(1)\n",
    "        continue"
   ]
  },
  {
   "cell_type": "code",
   "execution_count": 13,
   "metadata": {},
   "outputs": [],
   "source": [
    "df['deltas'] = deltas"
   ]
  },
  {
   "cell_type": "code",
   "execution_count": 17,
   "metadata": {},
   "outputs": [],
   "source": [
    "df = df.dropna()"
   ]
  },
  {
   "cell_type": "code",
   "execution_count": 22,
   "metadata": {},
   "outputs": [],
   "source": [
    "df_sorted = df.sort_values(by=['deltas'])"
   ]
  },
  {
   "cell_type": "code",
   "execution_count": 19,
   "metadata": {},
   "outputs": [],
   "source": [
    "df.to_json(\"data_with_deltas.json\")"
   ]
  },
  {
   "cell_type": "code",
   "execution_count": 27,
   "metadata": {},
   "outputs": [
    {
     "data": {
      "text/plain": [
       "id        135164\n",
       "lemma     tempus\n",
       "deltas      22.0\n",
       "Name: 40277, dtype: object"
      ]
     },
     "execution_count": 27,
     "metadata": {},
     "output_type": "execute_result"
    }
   ],
   "source": [
    "df_sorted.iloc[20000]"
   ]
  },
  {
   "attachments": {},
   "cell_type": "markdown",
   "metadata": {},
   "source": [
    "# Write New Dataset for CycleGAN"
   ]
  },
  {
   "cell_type": "code",
   "execution_count": 4,
   "metadata": {},
   "outputs": [],
   "source": [
    "df: pd.DataFrame = pd.read_json('data_with_deltas.json')"
   ]
  },
  {
   "cell_type": "code",
   "execution_count": 5,
   "metadata": {},
   "outputs": [],
   "source": [
    "df_sorted = df.sort_values(by=['deltas'])"
   ]
  },
  {
   "cell_type": "code",
   "execution_count": 6,
   "metadata": {},
   "outputs": [
    {
     "data": {
      "text/plain": [
       "id        135164\n",
       "lemma     tempus\n",
       "deltas        22\n",
       "Name: 40277, dtype: object"
      ]
     },
     "execution_count": 6,
     "metadata": {},
     "output_type": "execute_result"
    }
   ],
   "source": [
    "df_sorted.iloc[20000]"
   ]
  },
  {
   "cell_type": "code",
   "execution_count": 8,
   "metadata": {},
   "outputs": [],
   "source": [
    "df_final: pd.DataFrame = df_sorted.iloc[0:20000]\n",
    "df_final = df_final.sample(frac=1)\n"
   ]
  },
  {
   "cell_type": "code",
   "execution_count": 9,
   "metadata": {},
   "outputs": [
    {
     "data": {
      "text/plain": [
       "id        135164\n",
       "lemma     tempus\n",
       "deltas        22\n",
       "Name: 40277, dtype: object"
      ]
     },
     "execution_count": 9,
     "metadata": {},
     "output_type": "execute_result"
    }
   ],
   "source": [
    "df_sorted.iloc[20000]"
   ]
  },
  {
   "cell_type": "code",
   "execution_count": 10,
   "metadata": {},
   "outputs": [
    {
     "data": {
      "text/html": [
       "<div>\n",
       "<style scoped>\n",
       "    .dataframe tbody tr th:only-of-type {\n",
       "        vertical-align: middle;\n",
       "    }\n",
       "\n",
       "    .dataframe tbody tr th {\n",
       "        vertical-align: top;\n",
       "    }\n",
       "\n",
       "    .dataframe thead th {\n",
       "        text-align: right;\n",
       "    }\n",
       "</style>\n",
       "<table border=\"1\" class=\"dataframe\">\n",
       "  <thead>\n",
       "    <tr style=\"text-align: right;\">\n",
       "      <th></th>\n",
       "      <th>id</th>\n",
       "      <th>lemma</th>\n",
       "      <th>deltas</th>\n",
       "    </tr>\n",
       "  </thead>\n",
       "  <tbody>\n",
       "    <tr>\n",
       "      <th>17169</th>\n",
       "      <td>55926</td>\n",
       "      <td>similis</td>\n",
       "      <td>5</td>\n",
       "    </tr>\n",
       "    <tr>\n",
       "      <th>81523</th>\n",
       "      <td>272032</td>\n",
       "      <td>laetus</td>\n",
       "      <td>2</td>\n",
       "    </tr>\n",
       "    <tr>\n",
       "      <th>94067</th>\n",
       "      <td>287304</td>\n",
       "      <td>mater</td>\n",
       "      <td>7</td>\n",
       "    </tr>\n",
       "    <tr>\n",
       "      <th>42294</th>\n",
       "      <td>185176</td>\n",
       "      <td>tandem</td>\n",
       "      <td>20</td>\n",
       "    </tr>\n",
       "    <tr>\n",
       "      <th>111278</th>\n",
       "      <td>305215</td>\n",
       "      <td>necessitas</td>\n",
       "      <td>12</td>\n",
       "    </tr>\n",
       "    <tr>\n",
       "      <th>...</th>\n",
       "      <td>...</td>\n",
       "      <td>...</td>\n",
       "      <td>...</td>\n",
       "    </tr>\n",
       "    <tr>\n",
       "      <th>47059</th>\n",
       "      <td>195729</td>\n",
       "      <td>turmatim</td>\n",
       "      <td>2</td>\n",
       "    </tr>\n",
       "    <tr>\n",
       "      <th>109534</th>\n",
       "      <td>303471</td>\n",
       "      <td>natus</td>\n",
       "      <td>0</td>\n",
       "    </tr>\n",
       "    <tr>\n",
       "      <th>67917</th>\n",
       "      <td>220197</td>\n",
       "      <td>tu</td>\n",
       "      <td>17</td>\n",
       "    </tr>\n",
       "    <tr>\n",
       "      <th>79706</th>\n",
       "      <td>233275</td>\n",
       "      <td>timor</td>\n",
       "      <td>17</td>\n",
       "    </tr>\n",
       "    <tr>\n",
       "      <th>25518</th>\n",
       "      <td>96113</td>\n",
       "      <td>studium</td>\n",
       "      <td>7</td>\n",
       "    </tr>\n",
       "  </tbody>\n",
       "</table>\n",
       "<p>100 rows × 3 columns</p>\n",
       "</div>"
      ],
      "text/plain": [
       "            id       lemma  deltas\n",
       "17169    55926     similis       5\n",
       "81523   272032      laetus       2\n",
       "94067   287304       mater       7\n",
       "42294   185176      tandem      20\n",
       "111278  305215  necessitas      12\n",
       "...        ...         ...     ...\n",
       "47059   195729    turmatim       2\n",
       "109534  303471       natus       0\n",
       "67917   220197          tu      17\n",
       "79706   233275       timor      17\n",
       "25518    96113     studium       7\n",
       "\n",
       "[100 rows x 3 columns]"
      ]
     },
     "execution_count": 10,
     "metadata": {},
     "output_type": "execute_result"
    }
   ],
   "source": [
    "df_final.head(100)"
   ]
  },
  {
   "cell_type": "code",
   "execution_count": 11,
   "metadata": {},
   "outputs": [],
   "source": [
    "from pathlib import Path\n",
    "Path(\"machine2lemma/\").mkdir(parents=True, exist_ok=True)\n",
    "Path(\"machine2lemma/train\").mkdir(parents=True, exist_ok=True)\n",
    "Path(\"machine2lemma/train/machine\").mkdir(parents=True, exist_ok=True)\n",
    "Path(\"machine2lemma/train/lemma\").mkdir(parents=True, exist_ok=True)\n",
    "Path(\"machine2lemma/test\").mkdir(parents=True, exist_ok=True)\n",
    "Path(\"machine2lemma/test/machine\").mkdir(parents=True, exist_ok=True)\n",
    "Path(\"machine2lemma/test/lema\").mkdir(parents=True, exist_ok=True)"
   ]
  },
  {
   "cell_type": "code",
   "execution_count": 12,
   "metadata": {},
   "outputs": [],
   "source": [
    "df_train: pd.DataFrame = df_final[0:18000]\n",
    "df_test: pd.DataFrame = df_final[18000::]"
   ]
  },
  {
   "cell_type": "code",
   "execution_count": 20,
   "metadata": {},
   "outputs": [],
   "source": [
    "def generate_ds(df: pd.DataFrame, data_root: str, lemma_img_path: str, target: str, source: str) -> None:\n",
    "    progress_bar = tqdm(range(len(df)))\n",
    "    for row in df.iterrows():\n",
    "        id = row[1][0]\n",
    "        lemma = row[1][1]\n",
    "        gen, image, diff = generate_image(os.path.join(lemma_img_path, str(id) + '.jpg'), lemma)\n",
    "        # Source is machine\n",
    "        gen = Image.fromarray(gen)\n",
    "        source_path: str = os.path.join(data_root, source, str(id) + '.jpg')\n",
    "        gen.save(source_path)\n",
    "        # target is lemma\n",
    "        target_path: str = os.path.join(data_root, target, str(id) + '.jpg')\n",
    "        image.save(target_path)\n",
    "        progress_bar.update(1)"
   ]
  },
  {
   "cell_type": "code",
   "execution_count": 21,
   "metadata": {},
   "outputs": [],
   "source": [
    "df_test_method = df.iloc[0:10]"
   ]
  },
  {
   "cell_type": "code",
   "execution_count": 24,
   "metadata": {},
   "outputs": [
    {
     "data": {
      "application/vnd.jupyter.widget-view+json": {
       "model_id": "d47491986353434d9d0b2361e9fc9b3f",
       "version_major": 2,
       "version_minor": 0
      },
      "text/plain": [
       "  0%|          | 0/10 [00:00<?, ?it/s]"
      ]
     },
     "metadata": {},
     "output_type": "display_data"
    }
   ],
   "source": [
    "generate_ds(df_test_method, \"machine2lemma/train\", path_images, 'lemma', 'machine')"
   ]
  }
 ],
 "metadata": {
  "kernelspec": {
   "display_name": ".venv",
   "language": "python",
   "name": "python3"
  },
  "language_info": {
   "codemirror_mode": {
    "name": "ipython",
    "version": 3
   },
   "file_extension": ".py",
   "mimetype": "text/x-python",
   "name": "python",
   "nbconvert_exporter": "python",
   "pygments_lexer": "ipython3",
   "version": "3.9.2"
  },
  "orig_nbformat": 4
 },
 "nbformat": 4,
 "nbformat_minor": 2
}
