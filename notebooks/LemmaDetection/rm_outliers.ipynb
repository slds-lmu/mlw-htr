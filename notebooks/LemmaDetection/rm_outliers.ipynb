{
 "cells": [
  {
   "cell_type": "code",
   "execution_count": 1,
   "metadata": {},
   "outputs": [],
   "source": [
    "import cv2\n",
    "import json\n",
    "import matplotlib.pyplot as plt\n",
    "import numpy as np\n",
    "import os\n",
    "import pandas as pd\n",
    "from IPython import display\n",
    "from PIL import Image\n",
    "from PIL import ImageDraw\n",
    "from tqdm import tqdm"
   ]
  },
  {
   "cell_type": "code",
   "execution_count": 3,
   "metadata": {},
   "outputs": [
    {
     "data": {
      "text/plain": [
       "(1, 2)"
      ]
     },
     "execution_count": 3,
     "metadata": {},
     "output_type": "execute_result"
    }
   ],
   "source": [
    "np.array([[12,3]]).shape"
   ]
  },
  {
   "attachments": {},
   "cell_type": "markdown",
   "metadata": {},
   "source": [
    "# Constants\n",
    "\n",
    "Adapt paths to local environment!"
   ]
  },
  {
   "cell_type": "code",
   "execution_count": 2,
   "metadata": {},
   "outputs": [],
   "source": [
    "path2datajson = \"/mnt/win_share/MLW/data.json\"\n",
    "path2output = \"/mnt/win_share/doc_sec_output/OFA_run_110123/output\"\n",
    "path_images = \"/mnt/win_share/MLW/zettel/\""
   ]
  },
  {
   "attachments": {},
   "cell_type": "markdown",
   "metadata": {},
   "source": [
    "# Data Handling"
   ]
  },
  {
   "attachments": {},
   "cell_type": "markdown",
   "metadata": {},
   "source": [
    "## Helper Functions"
   ]
  },
  {
   "cell_type": "code",
   "execution_count": 3,
   "metadata": {},
   "outputs": [],
   "source": [
    "def load_data_json(path: str) -> pd.DataFrame:\n",
    "    \"\"\" Load data.json.\n",
    "\n",
    "    Load `data.json` file from main data ('MLW') directory.\n",
    "\n",
    "    :param path: Path to data.json in the  '<drive>/MLW' directory.\n",
    "    :return: DataFrame of imported data.\n",
    "    \"\"\"\n",
    "    f = open(path)\n",
    "    data = json.load(f)\n",
    "    data = pd.DataFrame(data)\n",
    "    data[\"length_lemma\"] = [len(i) for i in data[\"lemma\"]]\n",
    "    return data"
   ]
  },
  {
   "cell_type": "code",
   "execution_count": 90,
   "metadata": {},
   "outputs": [],
   "source": [
    "def load_output(path: str) -> pd.DataFrame:\n",
    "    \"\"\"Load and Process Output File.\n",
    "\n",
    "    Loads and processes output file labeled by the previous visual grounding\n",
    "    model. Besides coordinates of BBs, length and height are also added to \n",
    "    the DataFrame. All BBs, that start at 0.0, 0.0 are dropped and considered\n",
    "    a failure.\n",
    "\n",
    "    :param path: Path to output file.\n",
    "    :return: DataFrame of imported output file. \n",
    "    \"\"\"\n",
    "    f: any = open(str(path),\"r\")\n",
    "    output: list = [json.loads(d) for d in f.readlines()]\n",
    "    f.close()\n",
    "\n",
    "    id = [d[\"file\"].split(\".\")[0] for d in output]\n",
    "    x1 = [d[\"result\"][0][\"box\"][0] for d in output]\n",
    "    y1 = [d[\"result\"][0][\"box\"][1] for d in output]\n",
    "    x2 = [d[\"result\"][0][\"box\"][2] for d in output]\n",
    "    y2 = [d[\"result\"][0][\"box\"][3] for d in output]\n",
    "\n",
    "    outputs_bb = pd.DataFrame(np.array([id,x1,y1,x2,y2]).T, columns=[\"id\",\"x1\",\"y1\",\"x2\",\"y2\"])\n",
    "\n",
    "    outputs_bb['id'] = outputs_bb['id'].astype(\"int64\")\n",
    "    outputs_bb['x1'] = round(outputs_bb['x1'].astype(\"float\"))\n",
    "    outputs_bb['y1'] = round(outputs_bb['y1'].astype(\"float\"))\n",
    "    outputs_bb['x2'] = round(outputs_bb['x2'].astype(\"float\"))\n",
    "    outputs_bb['y2'] = round(outputs_bb['y2'].astype(\"float\"))\n",
    "\n",
    "    # Getting the length and height of the Bounding Boxes\n",
    "    outputs_bb[\"length\"] = outputs_bb[\"x2\"] - outputs_bb[\"x1\"]\n",
    "    outputs_bb[\"height\"] = outputs_bb[\"y2\"] - outputs_bb[\"y1\"]\n",
    "\n",
    "    # Getting area\n",
    "    outputs_bb[\"area\"] = outputs_bb[\"length\"] * outputs_bb[\"height\"]\n",
    "\n",
    "    # Removing all BBs with first point at (0,0)\n",
    "    outputs_bb_df = outputs_bb[(outputs_bb[\"x1\"]!=0) & (outputs_bb[\"y1\"]!=0)].copy()\n",
    "    return outputs_bb_df"
   ]
  },
  {
   "cell_type": "code",
   "execution_count": 76,
   "metadata": {},
   "outputs": [],
   "source": [
    "def create_dataset(path2datajson: str, path2output: str) -> pd.DataFrame:\n",
    "    \"\"\"Create Dataset to Label.\n",
    "    \n",
    "    Function to merge output and data.json datasets. Both datasets are\n",
    "    first loaded and subsequently merged.\n",
    "    \n",
    "    :param path2datajson: Path to `data.json` file.\n",
    "    :param path2output: Path to `output` file.\n",
    "    :return: Merged Dataset.\n",
    "    \"\"\"\n",
    "    datajson: pd.DataFrame = load_data_json(path2datajson)\n",
    "    dataoutput: pd.DataFrame = load_output(path2output)\n",
    "    data: pd.DataFrame = datajson.merge(dataoutput, on=\"id\")\n",
    "    return data"
   ]
  },
  {
   "attachments": {},
   "cell_type": "markdown",
   "metadata": {},
   "source": [
    "# Main"
   ]
  },
  {
   "cell_type": "code",
   "execution_count": 91,
   "metadata": {},
   "outputs": [],
   "source": [
    "df = create_dataset(\n",
    "    path2datajson=path2datajson,\n",
    "    path2output=path2output)"
   ]
  },
  {
   "cell_type": "code",
   "execution_count": 92,
   "metadata": {},
   "outputs": [
    {
     "data": {
      "text/html": [
       "<div>\n",
       "<style scoped>\n",
       "    .dataframe tbody tr th:only-of-type {\n",
       "        vertical-align: middle;\n",
       "    }\n",
       "\n",
       "    .dataframe tbody tr th {\n",
       "        vertical-align: top;\n",
       "    }\n",
       "\n",
       "    .dataframe thead th {\n",
       "        text-align: right;\n",
       "    }\n",
       "</style>\n",
       "<table border=\"1\" class=\"dataframe\">\n",
       "  <thead>\n",
       "    <tr style=\"text-align: right;\">\n",
       "      <th></th>\n",
       "      <th>id</th>\n",
       "      <th>lemma</th>\n",
       "      <th>length_lemma</th>\n",
       "      <th>x1</th>\n",
       "      <th>y1</th>\n",
       "      <th>x2</th>\n",
       "      <th>y2</th>\n",
       "      <th>length</th>\n",
       "      <th>height</th>\n",
       "      <th>area</th>\n",
       "    </tr>\n",
       "  </thead>\n",
       "  <tbody>\n",
       "    <tr>\n",
       "      <th>0</th>\n",
       "      <td>962</td>\n",
       "      <td>kalendae</td>\n",
       "      <td>8</td>\n",
       "      <td>199.0</td>\n",
       "      <td>52.0</td>\n",
       "      <td>602.0</td>\n",
       "      <td>196.0</td>\n",
       "      <td>403.0</td>\n",
       "      <td>144.0</td>\n",
       "      <td>58032.0</td>\n",
       "    </tr>\n",
       "    <tr>\n",
       "      <th>1</th>\n",
       "      <td>966</td>\n",
       "      <td>kalendae</td>\n",
       "      <td>8</td>\n",
       "      <td>62.0</td>\n",
       "      <td>18.0</td>\n",
       "      <td>483.0</td>\n",
       "      <td>157.0</td>\n",
       "      <td>421.0</td>\n",
       "      <td>139.0</td>\n",
       "      <td>58519.0</td>\n",
       "    </tr>\n",
       "    <tr>\n",
       "      <th>2</th>\n",
       "      <td>983</td>\n",
       "      <td>kalendae</td>\n",
       "      <td>8</td>\n",
       "      <td>146.0</td>\n",
       "      <td>74.0</td>\n",
       "      <td>556.0</td>\n",
       "      <td>172.0</td>\n",
       "      <td>410.0</td>\n",
       "      <td>98.0</td>\n",
       "      <td>40180.0</td>\n",
       "    </tr>\n",
       "    <tr>\n",
       "      <th>3</th>\n",
       "      <td>1026</td>\n",
       "      <td>kalendae</td>\n",
       "      <td>8</td>\n",
       "      <td>47.0</td>\n",
       "      <td>10.0</td>\n",
       "      <td>430.0</td>\n",
       "      <td>152.0</td>\n",
       "      <td>383.0</td>\n",
       "      <td>142.0</td>\n",
       "      <td>54386.0</td>\n",
       "    </tr>\n",
       "    <tr>\n",
       "      <th>4</th>\n",
       "      <td>1040</td>\n",
       "      <td>kalendae</td>\n",
       "      <td>8</td>\n",
       "      <td>62.0</td>\n",
       "      <td>13.0</td>\n",
       "      <td>429.0</td>\n",
       "      <td>154.0</td>\n",
       "      <td>367.0</td>\n",
       "      <td>141.0</td>\n",
       "      <td>51747.0</td>\n",
       "    </tr>\n",
       "    <tr>\n",
       "      <th>...</th>\n",
       "      <td>...</td>\n",
       "      <td>...</td>\n",
       "      <td>...</td>\n",
       "      <td>...</td>\n",
       "      <td>...</td>\n",
       "      <td>...</td>\n",
       "      <td>...</td>\n",
       "      <td>...</td>\n",
       "      <td>...</td>\n",
       "      <td>...</td>\n",
       "    </tr>\n",
       "    <tr>\n",
       "      <th>4019</th>\n",
       "      <td>308406</td>\n",
       "      <td>nimis</td>\n",
       "      <td>5</td>\n",
       "      <td>73.0</td>\n",
       "      <td>5.0</td>\n",
       "      <td>459.0</td>\n",
       "      <td>169.0</td>\n",
       "      <td>386.0</td>\n",
       "      <td>164.0</td>\n",
       "      <td>63304.0</td>\n",
       "    </tr>\n",
       "    <tr>\n",
       "      <th>4020</th>\n",
       "      <td>308537</td>\n",
       "      <td>nimis</td>\n",
       "      <td>5</td>\n",
       "      <td>26.0</td>\n",
       "      <td>10.0</td>\n",
       "      <td>327.0</td>\n",
       "      <td>153.0</td>\n",
       "      <td>301.0</td>\n",
       "      <td>143.0</td>\n",
       "      <td>43043.0</td>\n",
       "    </tr>\n",
       "    <tr>\n",
       "      <th>4021</th>\n",
       "      <td>308540</td>\n",
       "      <td>nimis</td>\n",
       "      <td>5</td>\n",
       "      <td>19.0</td>\n",
       "      <td>41.0</td>\n",
       "      <td>308.0</td>\n",
       "      <td>155.0</td>\n",
       "      <td>289.0</td>\n",
       "      <td>114.0</td>\n",
       "      <td>32946.0</td>\n",
       "    </tr>\n",
       "    <tr>\n",
       "      <th>4022</th>\n",
       "      <td>308571</td>\n",
       "      <td>nimium</td>\n",
       "      <td>6</td>\n",
       "      <td>72.0</td>\n",
       "      <td>10.0</td>\n",
       "      <td>511.0</td>\n",
       "      <td>171.0</td>\n",
       "      <td>439.0</td>\n",
       "      <td>161.0</td>\n",
       "      <td>70679.0</td>\n",
       "    </tr>\n",
       "    <tr>\n",
       "      <th>4023</th>\n",
       "      <td>308588</td>\n",
       "      <td>nimium</td>\n",
       "      <td>6</td>\n",
       "      <td>145.0</td>\n",
       "      <td>84.0</td>\n",
       "      <td>554.0</td>\n",
       "      <td>191.0</td>\n",
       "      <td>409.0</td>\n",
       "      <td>107.0</td>\n",
       "      <td>43763.0</td>\n",
       "    </tr>\n",
       "  </tbody>\n",
       "</table>\n",
       "<p>4024 rows × 10 columns</p>\n",
       "</div>"
      ],
      "text/plain": [
       "          id     lemma  length_lemma     x1    y1     x2     y2  length  \\\n",
       "0        962  kalendae             8  199.0  52.0  602.0  196.0   403.0   \n",
       "1        966  kalendae             8   62.0  18.0  483.0  157.0   421.0   \n",
       "2        983  kalendae             8  146.0  74.0  556.0  172.0   410.0   \n",
       "3       1026  kalendae             8   47.0  10.0  430.0  152.0   383.0   \n",
       "4       1040  kalendae             8   62.0  13.0  429.0  154.0   367.0   \n",
       "...      ...       ...           ...    ...   ...    ...    ...     ...   \n",
       "4019  308406     nimis             5   73.0   5.0  459.0  169.0   386.0   \n",
       "4020  308537     nimis             5   26.0  10.0  327.0  153.0   301.0   \n",
       "4021  308540     nimis             5   19.0  41.0  308.0  155.0   289.0   \n",
       "4022  308571    nimium             6   72.0  10.0  511.0  171.0   439.0   \n",
       "4023  308588    nimium             6  145.0  84.0  554.0  191.0   409.0   \n",
       "\n",
       "      height     area  \n",
       "0      144.0  58032.0  \n",
       "1      139.0  58519.0  \n",
       "2       98.0  40180.0  \n",
       "3      142.0  54386.0  \n",
       "4      141.0  51747.0  \n",
       "...      ...      ...  \n",
       "4019   164.0  63304.0  \n",
       "4020   143.0  43043.0  \n",
       "4021   114.0  32946.0  \n",
       "4022   161.0  70679.0  \n",
       "4023   107.0  43763.0  \n",
       "\n",
       "[4024 rows x 10 columns]"
      ]
     },
     "execution_count": 92,
     "metadata": {},
     "output_type": "execute_result"
    }
   ],
   "source": [
    "df"
   ]
  },
  {
   "cell_type": "code",
   "execution_count": 36,
   "metadata": {},
   "outputs": [],
   "source": [
    "def get_outliers(data, column: str) -> pd.DataFrame:\n",
    "    q1 = data[column].quantile(0.25)\n",
    "    q3= data[column].quantile(0.75)\n",
    "    IQR = q3 - q1\n",
    "    data[\"outliers_\" + column] = [\"yes\" if ((d<(q1-1.5*IQR)) | (d>(q3+1.5*IQR))) else \"no\" for d in data[column]]\n",
    "    return data"
   ]
  },
  {
   "cell_type": "code",
   "execution_count": 116,
   "metadata": {},
   "outputs": [],
   "source": [
    "def get_outliers_(data) -> pd.DataFrame:\n",
    "    q1_height = data['y1'].quantile(0.25)\n",
    "    q3_height = data['y1'].quantile(0.75)\n",
    "    IQR_height = q3_height - q1_height\n",
    "\n",
    "    q1_width = data['x1'].quantile(0.25)\n",
    "    q3_width = data['x1'].quantile(0.75)\n",
    "    IQR_width = q3_width - q1_width\n",
    "    data[\"outliers\"] = [\"yes\" if (((height < (q1_height + 1.5*IQR_height)) | (height>(q3_height+1.5*IQR_height))) & ((length<(q1_width-1.5*IQR_width)) | (length>(q3_width+1.5*IQR_width)))) else \"no\" for (height, length) in data[['height', 'length']].values]\n",
    "    return data"
   ]
  },
  {
   "cell_type": "code",
   "execution_count": 62,
   "metadata": {},
   "outputs": [
    {
     "data": {
      "text/html": [
       "<div>\n",
       "<style scoped>\n",
       "    .dataframe tbody tr th:only-of-type {\n",
       "        vertical-align: middle;\n",
       "    }\n",
       "\n",
       "    .dataframe tbody tr th {\n",
       "        vertical-align: top;\n",
       "    }\n",
       "\n",
       "    .dataframe thead th {\n",
       "        text-align: right;\n",
       "    }\n",
       "</style>\n",
       "<table border=\"1\" class=\"dataframe\">\n",
       "  <thead>\n",
       "    <tr style=\"text-align: right;\">\n",
       "      <th></th>\n",
       "      <th>height</th>\n",
       "      <th>length</th>\n",
       "    </tr>\n",
       "  </thead>\n",
       "  <tbody>\n",
       "    <tr>\n",
       "      <th>0</th>\n",
       "      <td>144.0</td>\n",
       "      <td>403.0</td>\n",
       "    </tr>\n",
       "    <tr>\n",
       "      <th>1</th>\n",
       "      <td>139.0</td>\n",
       "      <td>421.0</td>\n",
       "    </tr>\n",
       "    <tr>\n",
       "      <th>2</th>\n",
       "      <td>98.0</td>\n",
       "      <td>410.0</td>\n",
       "    </tr>\n",
       "    <tr>\n",
       "      <th>3</th>\n",
       "      <td>142.0</td>\n",
       "      <td>383.0</td>\n",
       "    </tr>\n",
       "    <tr>\n",
       "      <th>4</th>\n",
       "      <td>141.0</td>\n",
       "      <td>367.0</td>\n",
       "    </tr>\n",
       "    <tr>\n",
       "      <th>...</th>\n",
       "      <td>...</td>\n",
       "      <td>...</td>\n",
       "    </tr>\n",
       "    <tr>\n",
       "      <th>4019</th>\n",
       "      <td>164.0</td>\n",
       "      <td>386.0</td>\n",
       "    </tr>\n",
       "    <tr>\n",
       "      <th>4020</th>\n",
       "      <td>143.0</td>\n",
       "      <td>301.0</td>\n",
       "    </tr>\n",
       "    <tr>\n",
       "      <th>4021</th>\n",
       "      <td>114.0</td>\n",
       "      <td>289.0</td>\n",
       "    </tr>\n",
       "    <tr>\n",
       "      <th>4022</th>\n",
       "      <td>161.0</td>\n",
       "      <td>439.0</td>\n",
       "    </tr>\n",
       "    <tr>\n",
       "      <th>4023</th>\n",
       "      <td>107.0</td>\n",
       "      <td>409.0</td>\n",
       "    </tr>\n",
       "  </tbody>\n",
       "</table>\n",
       "<p>4024 rows × 2 columns</p>\n",
       "</div>"
      ],
      "text/plain": [
       "      height  length\n",
       "0      144.0   403.0\n",
       "1      139.0   421.0\n",
       "2       98.0   410.0\n",
       "3      142.0   383.0\n",
       "4      141.0   367.0\n",
       "...      ...     ...\n",
       "4019   164.0   386.0\n",
       "4020   143.0   301.0\n",
       "4021   114.0   289.0\n",
       "4022   161.0   439.0\n",
       "4023   107.0   409.0\n",
       "\n",
       "[4024 rows x 2 columns]"
      ]
     },
     "execution_count": 62,
     "metadata": {},
     "output_type": "execute_result"
    }
   ],
   "source": [
    "df[['height', 'length']]"
   ]
  },
  {
   "cell_type": "code",
   "execution_count": null,
   "metadata": {},
   "outputs": [],
   "source": [
    "[(e1, e2) for (e1, e2) in df[['height', 'length']].values]"
   ]
  },
  {
   "cell_type": "code",
   "execution_count": 43,
   "metadata": {},
   "outputs": [
    {
     "data": {
      "text/plain": [
       "(76.0, 154.25)"
      ]
     },
     "execution_count": 43,
     "metadata": {},
     "output_type": "execute_result"
    }
   ],
   "source": [
    "lemma_length: list = df['length_lemma'].unique()\n",
    "df[df['length_lemma']== 2]['height'].quantile(0.25), df[df['length_lemma']== 2]['height'].quantile(0.75)"
   ]
  },
  {
   "cell_type": "code",
   "execution_count": 97,
   "metadata": {},
   "outputs": [],
   "source": [
    "df_out_area = get_outliers(df.copy(), 'area')"
   ]
  },
  {
   "cell_type": "code",
   "execution_count": 98,
   "metadata": {},
   "outputs": [
    {
     "data": {
      "text/plain": [
       "0.019135188866799206"
      ]
     },
     "execution_count": 98,
     "metadata": {},
     "output_type": "execute_result"
    }
   ],
   "source": [
    "len(df_out_area[df_out_area[\"outliers_\" + \"area\"] == 'yes']) / len(df_out_area)"
   ]
  },
  {
   "cell_type": "code",
   "execution_count": null,
   "metadata": {},
   "outputs": [],
   "source": []
  },
  {
   "cell_type": "code",
   "execution_count": 52,
   "metadata": {},
   "outputs": [],
   "source": [
    "df_out = get_outliers(df[df['length_lemma']== 6].copy(), 'height')"
   ]
  },
  {
   "cell_type": "code",
   "execution_count": 49,
   "metadata": {},
   "outputs": [
    {
     "data": {
      "text/plain": [
       "0.014705882352941176"
      ]
     },
     "execution_count": 49,
     "metadata": {},
     "output_type": "execute_result"
    }
   ],
   "source": [
    "len(df_out[df_out[\"outliers_\" + \"height\"] == 'yes']) / len(df_out)"
   ]
  },
  {
   "cell_type": "code",
   "execution_count": null,
   "metadata": {},
   "outputs": [],
   "source": []
  },
  {
   "cell_type": "code",
   "execution_count": 50,
   "metadata": {},
   "outputs": [],
   "source": [
    "def vis_cluster_sample(\n",
    "        data: pd.DataFrame,\n",
    "        columns: int=4,\n",
    "        rows: int=5,\n",
    "        w: int=40,\n",
    "        h: int=40):\n",
    "\n",
    "    # fig = plt.figure(figsize=(w, h))\n",
    "\n",
    "    # Sample\n",
    "    if len(data) < columns * rows:\n",
    "        X = data\n",
    "    else:\n",
    "        indices = np.random.choice(range(len(data)), columns * rows)\n",
    "        X = data.iloc[indices]\n",
    "\n",
    "    # Get Images\n",
    "    images: list = list()\n",
    "    for _, e in X.iterrows():\n",
    "        img = np.asarray(Image.open(os.path.join(path_images, str(e['id']) + '.jpg'), mode=\"r\"))\n",
    "        cv2.rectangle(\n",
    "            img,\n",
    "            (int(e['x1']), int(e['y1'])),\n",
    "            (int(e['x2']), int(e['y2'])),\n",
    "            (0, 255, 0),\n",
    "            3\n",
    "        )\n",
    "        images.append(img)\n",
    "\n",
    "    # Process Images\n",
    "    dims = list(map(lambda e: e.shape, images))\n",
    "    size_height, size_width = tuple(map(lambda e: min(e), [list(t) for t in zip(*dims)][0:2]))\n",
    "    images_cropped = list(map(lambda e: e[0:size_height, 0:size_width], images))\n",
    "\n",
    "    fig, axs = plt.subplots(rows, columns, figsize=(w, h), constrained_layout=True,\n",
    "                        sharex=True, sharey=True)\n",
    "\n",
    "    # for index, e in enumerate(images_cropped):\n",
    "    #     img = Image.fromarray(e)\n",
    "    #     fig.add_subplot(rows, columns, index + 1, label = \"test\")\n",
    "    #     plt.imshow(img)\n",
    "\n",
    "    for i, ax in enumerate(axs.flat):\n",
    "        ax.imshow(Image.fromarray(images_cropped[i]))\n",
    "        ax.set_title(\n",
    "            str(X['id'].values[i]) + '.jpg',\n",
    "            fontsize='small',\n",
    "            loc='left')\n",
    "    \n",
    "    plt.show()"
   ]
  },
  {
   "cell_type": "code",
   "execution_count": null,
   "metadata": {},
   "outputs": [],
   "source": [
    "vis_cluster_sample(df_out[df_out[\"outliers_\" + \"height\"] == 'yes'])"
   ]
  },
  {
   "attachments": {},
   "cell_type": "markdown",
   "metadata": {},
   "source": [
    "Remove hieght annd width outliers\n",
    "Remove y1 outliers annd x1 outliers "
   ]
  },
  {
   "cell_type": "code",
   "execution_count": null,
   "metadata": {},
   "outputs": [],
   "source": [
    "vis_cluster_sample(df_out_[df_out_[\"outliers\"] == 'yes'])"
   ]
  },
  {
   "cell_type": "code",
   "execution_count": null,
   "metadata": {},
   "outputs": [],
   "source": [
    "vis_cluster_sample(df_out_area[df_out_area[\"outliers_\" + \"area\"] == 'yes'])"
   ]
  },
  {
   "cell_type": "code",
   "execution_count": 86,
   "metadata": {},
   "outputs": [
    {
     "data": {
      "text/plain": [
       "<matplotlib.collections.PathCollection at 0x7f84e8b6bc40>"
      ]
     },
     "execution_count": 86,
     "metadata": {},
     "output_type": "execute_result"
    },
    {
     "data": {
      "image/png": "[encoded data removed]",
      "text/plain": [
       "<Figure size 640x480 with 1 Axes>"
      ]
     },
     "metadata": {},
     "output_type": "display_data"
    }
   ],
   "source": [
    "e = df_out_area['area'].values\n",
    "plt.scatter(np.array([1] * len(e)), e)"
   ]
  },
  {
   "cell_type": "code",
   "execution_count": 102,
   "metadata": {},
   "outputs": [],
   "source": [
    "MAX_WIDTH = 1750 / 2\n",
    "MAX_HEIGHT = 1200 / 2"
   ]
  },
  {
   "cell_type": "code",
   "execution_count": 100,
   "metadata": {},
   "outputs": [
    {
     "data": {
      "text/plain": [
       "2030112.0"
      ]
     },
     "execution_count": 100,
     "metadata": {},
     "output_type": "execute_result"
    }
   ],
   "source": [
    "df['area'].max()"
   ]
  },
  {
   "cell_type": "code",
   "execution_count": 104,
   "metadata": {},
   "outputs": [],
   "source": [
    "MAX_AREA = MAX_WIDTH * MAX_HEIGHT"
   ]
  },
  {
   "cell_type": "code",
   "execution_count": 107,
   "metadata": {},
   "outputs": [],
   "source": [
    "df_rule_based = df[df['area'] > MAX_AREA]"
   ]
  },
  {
   "cell_type": "code",
   "execution_count": null,
   "metadata": {},
   "outputs": [],
   "source": [
    "vis_cluster_sample(df_rule_based)"
   ]
  },
  {
   "cell_type": "code",
   "execution_count": null,
   "metadata": {},
   "outputs": [],
   "source": [
    "vis_cluster_sample(df_out_area[df_out_area[\"outliers_\" + \"area\"] == 'yes'])"
   ]
  },
  {
   "cell_type": "code",
   "execution_count": 117,
   "metadata": {},
   "outputs": [],
   "source": [
    "df_out_ = get_outliers_(df.copy())"
   ]
  },
  {
   "cell_type": "code",
   "execution_count": null,
   "metadata": {},
   "outputs": [],
   "source": [
    "vis_cluster_sample(df_out_[df_out_[\"outliers\"] == 'yes'])"
   ]
  },
  {
   "cell_type": "code",
   "execution_count": null,
   "metadata": {},
   "outputs": [],
   "source": []
  }
 ],
 "metadata": {
  "kernelspec": {
   "display_name": ".venv",
   "language": "python",
   "name": "python3"
  },
  "language_info": {
   "codemirror_mode": {
    "name": "ipython",
    "version": 3
   },
   "file_extension": ".py",
   "mimetype": "text/x-python",
   "name": "python",
   "nbconvert_exporter": "python",
   "pygments_lexer": "ipython3",
   "version": "3.9.2"
  },
  "vscode": {
   "interpreter": {
    "hash": "5afe9eeb8af053ef8b64af018aa8e524e1e7175fb4a825a61c01395d5fc98f41"
   }
  }
 },
 "nbformat": 4,
 "nbformat_minor": 1
}
