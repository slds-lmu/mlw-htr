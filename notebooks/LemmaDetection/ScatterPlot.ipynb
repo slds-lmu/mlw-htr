{
 "cells": [
  {
   "cell_type": "code",
   "execution_count": 68,
   "metadata": {},
   "outputs": [],
   "source": [
    "import cv2\n",
    "import json\n",
    "import matplotlib.pyplot as plt\n",
    "import numpy as np\n",
    "import pandas as pd\n",
    "import os\n",
    "\n",
    "from PIL import Image"
   ]
  },
  {
   "attachments": {},
   "cell_type": "markdown",
   "metadata": {},
   "source": [
    "# Constants"
   ]
  },
  {
   "cell_type": "code",
   "execution_count": 69,
   "metadata": {},
   "outputs": [],
   "source": [
    "path2zettel: str = \"/mnt/win_share/MLW/zettel/\"\n",
    "path2datajson: str = \"/mnt/win_share/MLW/data.json\"\n",
    "path2outputv1: str = \"/home/philko/output__v1\"\n",
    "path2outputv2: str = \"/home/philko/output_v2\""
   ]
  },
  {
   "attachments": {},
   "cell_type": "markdown",
   "metadata": {},
   "source": [
    "# Data"
   ]
  },
  {
   "attachments": {},
   "cell_type": "markdown",
   "metadata": {},
   "source": [
    "## Helper Functions"
   ]
  },
  {
   "cell_type": "code",
   "execution_count": 70,
   "metadata": {},
   "outputs": [],
   "source": [
    "def load_output(path: str) -> pd.DataFrame:\n",
    "    \"\"\"Load and Process Output File.\n",
    "\n",
    "    Loads and processes output file labeled by the previous visual grounding\n",
    "    model. Besides coordinates of BBs, length and height are also added to \n",
    "    the DataFrame. All BBs, that start at 0.0, 0.0 are dropped and considered\n",
    "    a failure.\n",
    "\n",
    "    :param path: Path to output file.\n",
    "    :return: DataFrame of imported output file. \n",
    "    \"\"\"\n",
    "    output: any = open(str(path),\"r\")\n",
    "    output: any = output.read()\n",
    "    output: str = output.split(\"/n\")\n",
    "    todelete: int = len(output) - 1\n",
    "    del output[todelete]\n",
    "    output = [json.loads(d) for d in output]\n",
    "\n",
    "    id = [d[\"file\"].split(\".\")[0] for d in output]\n",
    "    x1 = [d[\"result\"][0][\"box\"][0] for d in output]\n",
    "    y1 = [d[\"result\"][0][\"box\"][1] for d in output]\n",
    "    x2 = [d[\"result\"][0][\"box\"][2] for d in output]\n",
    "    y2 = [d[\"result\"][0][\"box\"][3] for d in output]\n",
    "\n",
    "    outputs_bb = pd.DataFrame(np.array([id,x1,y1,x2,y2]).T, columns=[\"id\",\"x1\",\"y1\",\"x2\",\"y2\"])\n",
    "\n",
    "    outputs_bb['id'] = outputs_bb['id'].astype(\"int64\")\n",
    "    outputs_bb['x1'] = round(outputs_bb['x1'].astype(\"float\"))\n",
    "    outputs_bb['y1'] = round(outputs_bb['y1'].astype(\"float\"))\n",
    "    outputs_bb['x2'] = round(outputs_bb['x2'].astype(\"float\"))\n",
    "    outputs_bb['y2'] = round(outputs_bb['y2'].astype(\"float\"))\n",
    "\n",
    "    # Getting the length and height of the Bounding Boxes\n",
    "    outputs_bb[\"length\"] = outputs_bb[\"x2\"] - outputs_bb[\"x1\"]\n",
    "    outputs_bb[\"height\"] = outputs_bb[\"y2\"] - outputs_bb[\"y1\"]\n",
    "\n",
    "    # Removing all BBs with first point at (0,0)\n",
    "    outputs_bb_df = outputs_bb[(outputs_bb[\"x1\"]!=0) & (outputs_bb[\"y1\"]!=0)].copy()\n",
    "    return outputs_bb_df"
   ]
  },
  {
   "cell_type": "code",
   "execution_count": 71,
   "metadata": {},
   "outputs": [],
   "source": [
    "def load_data_json(path: str) -> pd.DataFrame:\n",
    "    \"\"\" Load data.json.\n",
    "\n",
    "    Load `data.json` file from main data ('MLW') directory.\n",
    "\n",
    "    :param path: Path to data.json in the  '<drive>/MLW' directory.\n",
    "    :return: DataFrame of imported data.\n",
    "    \"\"\"\n",
    "    f = open(path)\n",
    "    data = json.load(f)\n",
    "    data = pd.DataFrame(data)\n",
    "    data[\"length_lemma\"] = [len(i) for i in data[\"lemma\"]]\n",
    "    return data"
   ]
  },
  {
   "cell_type": "code",
   "execution_count": 72,
   "metadata": {},
   "outputs": [],
   "source": [
    "def create_dataset(path2datajson: str, path2output: str) -> pd.DataFrame:\n",
    "    \"\"\"Create Dataset to Label.\n",
    "    \n",
    "    Function to merge output and data.json datasets. Both datasets are\n",
    "    first loaded and subsequently merged.\n",
    "    \n",
    "    :param path2datajson: Path to `data.json` file.\n",
    "    :param path2output: Path to `output` file.\n",
    "    :return: Merged Dataset.\n",
    "    \"\"\"\n",
    "    datajson: pd.DataFrame = load_data_json(path2datajson)\n",
    "    dataoutput: pd.DataFrame = load_output(path2output)\n",
    "    data: pd.DataFrame = datajson.merge(dataoutput, on=\"id\")\n",
    "    return data"
   ]
  },
  {
   "attachments": {},
   "cell_type": "markdown",
   "metadata": {},
   "source": [
    "## Process Data"
   ]
  },
  {
   "cell_type": "code",
   "execution_count": 73,
   "metadata": {},
   "outputs": [],
   "source": [
    "datav1: pd.DataFrame = create_dataset(path2datajson, path2outputv1)\n",
    "datav2: pd.DataFrame = create_dataset(path2datajson, path2outputv2)"
   ]
  },
  {
   "cell_type": "code",
   "execution_count": 74,
   "metadata": {},
   "outputs": [
    {
     "data": {
      "text/plain": [
       "(Index(['id', 'lemma', 'length_lemma', 'x1', 'y1', 'x2', 'y2', 'length',\n",
       "        'height'],\n",
       "       dtype='object'),\n",
       " Index(['id', 'lemma', 'length_lemma', 'x1', 'y1', 'x2', 'y2', 'length',\n",
       "        'height'],\n",
       "       dtype='object'))"
      ]
     },
     "execution_count": 74,
     "metadata": {},
     "output_type": "execute_result"
    }
   ],
   "source": [
    "datav1.columns, datav2.columns"
   ]
  },
  {
   "attachments": {},
   "cell_type": "markdown",
   "metadata": {},
   "source": [
    "# Scatterplots"
   ]
  },
  {
   "attachments": {},
   "cell_type": "markdown",
   "metadata": {},
   "source": [
    "## Prompt 1"
   ]
  },
  {
   "attachments": {},
   "cell_type": "markdown",
   "metadata": {},
   "source": [
    "_cursive text upper left_"
   ]
  },
  {
   "attachments": {},
   "cell_type": "markdown",
   "metadata": {},
   "source": [
    "### LemmaLen x Length"
   ]
  },
  {
   "cell_type": "code",
   "execution_count": null,
   "metadata": {},
   "outputs": [],
   "source": [
    "plt.scatter(datav1['length_lemma'], datav1['length'])\n",
    "plt.show()"
   ]
  },
  {
   "attachments": {},
   "cell_type": "markdown",
   "metadata": {},
   "source": [
    "### LemmaLen x Height"
   ]
  },
  {
   "cell_type": "code",
   "execution_count": null,
   "metadata": {},
   "outputs": [],
   "source": [
    "plt.scatter(datav1['length_lemma'], datav1['height'])\n",
    "plt.show()"
   ]
  },
  {
   "attachments": {},
   "cell_type": "markdown",
   "metadata": {},
   "source": [
    "### LemmaLen x Lenght + Height"
   ]
  },
  {
   "cell_type": "code",
   "execution_count": null,
   "metadata": {},
   "outputs": [],
   "source": [
    "plt.scatter(datav1['length_lemma'], (datav1['height'] + datav1['length']))\n",
    "plt.show()"
   ]
  },
  {
   "attachments": {},
   "cell_type": "markdown",
   "metadata": {},
   "source": [
    "## Prompt 2"
   ]
  },
  {
   "attachments": {},
   "cell_type": "markdown",
   "metadata": {},
   "source": [
    "_handwritten cursive word upper left_"
   ]
  },
  {
   "attachments": {},
   "cell_type": "markdown",
   "metadata": {},
   "source": [
    "### LemmaLen x Length"
   ]
  },
  {
   "cell_type": "code",
   "execution_count": null,
   "metadata": {},
   "outputs": [],
   "source": [
    "plt.scatter(datav2['length_lemma'], datav2['length'])\n",
    "plt.show()"
   ]
  },
  {
   "attachments": {},
   "cell_type": "markdown",
   "metadata": {},
   "source": [
    "### LemmaLen x Height"
   ]
  },
  {
   "cell_type": "code",
   "execution_count": null,
   "metadata": {},
   "outputs": [],
   "source": [
    "plt.scatter(datav2['length_lemma'], datav2['height'])\n",
    "plt.show()"
   ]
  },
  {
   "attachments": {},
   "cell_type": "markdown",
   "metadata": {},
   "source": [
    "### LemmaLen x Length + Height"
   ]
  },
  {
   "cell_type": "code",
   "execution_count": null,
   "metadata": {},
   "outputs": [],
   "source": [
    "plt.scatter(datav2['length_lemma'], (datav2['height'] + datav2['length']))\n",
    "plt.show()"
   ]
  },
  {
   "attachments": {},
   "cell_type": "markdown",
   "metadata": {},
   "source": [
    "# Further Look at Lemma of Length 2"
   ]
  },
  {
   "attachments": {},
   "cell_type": "markdown",
   "metadata": {},
   "source": [
    "## Helper Function"
   ]
  },
  {
   "cell_type": "code",
   "execution_count": 98,
   "metadata": {},
   "outputs": [],
   "source": [
    "def vis_cluster_sample(\n",
    "        data: pd.DataFrame,\n",
    "        columns: int=4,\n",
    "        rows: int=5,\n",
    "        w: int=40,\n",
    "        h: int=40):\n",
    "\n",
    "    # fig = plt.figure(figsize=(w, h))\n",
    "\n",
    "    # Sample\n",
    "    if len(data) < columns * rows:\n",
    "        X = data\n",
    "    else:\n",
    "        indices = np.random.choice(range(len(data)), columns * rows)\n",
    "        X = data.iloc[indices]\n",
    "\n",
    "    # Get Images\n",
    "    images: list = list()\n",
    "    for _, e in X.iterrows():\n",
    "        img = np.asarray(Image.open(os.path.join(path2zettel, str(e['id']) + '.jpg'), mode=\"r\"))\n",
    "        cv2.rectangle(\n",
    "            img,\n",
    "            (int(e['x1']), int(e['y1'])),\n",
    "            (int(e['x2']), int(e['y2'])),\n",
    "            (0, 255, 0),\n",
    "            3\n",
    "        )\n",
    "        images.append(img)\n",
    "\n",
    "    # Process Images\n",
    "    dims = list(map(lambda e: e.shape, images))\n",
    "    size_height, size_width = tuple(map(lambda e: min(e), [list(t) for t in zip(*dims)][0:2]))\n",
    "    images_cropped = list(map(lambda e: e[0:size_height, 0:size_width], images))\n",
    "\n",
    "    fig, axs = plt.subplots(rows, columns, figsize=(w, h), constrained_layout=True,\n",
    "                        sharex=True, sharey=True)\n",
    "\n",
    "    # for index, e in enumerate(images_cropped):\n",
    "    #     img = Image.fromarray(e)\n",
    "    #     fig.add_subplot(rows, columns, index + 1, label = \"test\")\n",
    "    #     plt.imshow(img)\n",
    "\n",
    "    for i, ax in enumerate(axs.flat):\n",
    "        ax.imshow(Image.fromarray(images_cropped[i]))\n",
    "        ax.set_title(\n",
    "            str(X['id'].values[i]) + '.jpg',\n",
    "            fontsize='small',\n",
    "            loc='left')\n",
    "    \n",
    "    plt.show()"
   ]
  },
  {
   "attachments": {},
   "cell_type": "markdown",
   "metadata": {},
   "source": [
    "## Lemma, Len = 2, Prompt 1"
   ]
  },
  {
   "cell_type": "code",
   "execution_count": 83,
   "metadata": {},
   "outputs": [],
   "source": [
    "data_len_1 = datav1[(datav1['length_lemma'] == 2)]"
   ]
  },
  {
   "cell_type": "code",
   "execution_count": null,
   "metadata": {},
   "outputs": [],
   "source": [
    "vis_cluster_sample(data_len_1)"
   ]
  },
  {
   "attachments": {},
   "cell_type": "markdown",
   "metadata": {},
   "source": [
    "## Lemma, Len = 2, Prompt 2"
   ]
  },
  {
   "cell_type": "code",
   "execution_count": 85,
   "metadata": {},
   "outputs": [],
   "source": [
    "data_len_2 = datav2[(datav2['length_lemma'] == 2)]"
   ]
  },
  {
   "cell_type": "code",
   "execution_count": null,
   "metadata": {},
   "outputs": [],
   "source": [
    "vis_cluster_sample(data_len_2)"
   ]
  },
  {
   "cell_type": "code",
   "execution_count": null,
   "metadata": {},
   "outputs": [],
   "source": [
    "data_len_10 = datav2[(datav2['length_lemma'] == 10)]\n",
    "vis_cluster_sample(data_len_10)"
   ]
  },
  {
   "cell_type": "code",
   "execution_count": null,
   "metadata": {},
   "outputs": [],
   "source": [
    "data_len_6 = datav2[(datav2['length_lemma'] == 10)]\n",
    "vis_cluster_sample(data_len_6)"
   ]
  }
 ],
 "metadata": {
  "kernelspec": {
   "display_name": "Python 3.10.8 ('.venv': venv)",
   "language": "python",
   "name": "python3"
  },
  "language_info": {
   "codemirror_mode": {
    "name": "ipython",
    "version": 3
   },
   "file_extension": ".py",
   "mimetype": "text/x-python",
   "name": "python",
   "nbconvert_exporter": "python",
   "pygments_lexer": "ipython3",
   "version": "3.10.8"
  },
  "orig_nbformat": 4,
  "vscode": {
   "interpreter": {
    "hash": "5afe9eeb8af053ef8b64af018aa8e524e1e7175fb4a825a61c01395d5fc98f41"
   }
  }
 },
 "nbformat": 4,
 "nbformat_minor": 2
}
